{
 "cells": [
  {
   "cell_type": "markdown",
   "metadata": {},
   "source": [
    "# Homework 4 - Due Friday Sept 11, 5pm"
   ]
  },
  {
   "cell_type": "markdown",
   "metadata": {},
   "source": [
    "*The semi-empirical mass formula*\n",
    "\n",
    "In nuclear physics, the semi-empirical mass formula is a formula for calculating the\n",
    "approximate nuclear binding energy $B$ of an atomic nucleus with atomic number $Z$\n",
    "and mass number $A$. The formula looks like this:\n",
    "    \n",
    "$$ B = a_1 A - a_2 A^{2/3} - a_3 \\frac{Z^2}{A^{1/3}} - a_4 \\frac{(A - 2Z)^2}{A} - \\frac{a_5}{A^{1/2}} $$\n",
    "\n",
    "where, in units of millions of electron volts (MeV), the constants are $a_1 =\n",
    "15.67$, $a_2 = 17.23$, $a_3 = 0.75$, $a_4 = 93.2$, and\n",
    "\n",
    "$$ a_5  \\; =  \\;\\; \\left\\{ \\begin{array} {r@{\\quad\\tt if \\quad}l} 0 & A \\;{\\tt is\n",
    "      \\; odd}, \\\\\n",
    "    12.0 & A \\;{\\tt and}\\; Z \\;{\\tt are \\;both \\;even}, \\\\ -12.0 & A \\;{\\tt is\n",
    "     \\;  even \\; and}\\;  Z \\;{\\tt is\n",
    "  \\;  odd.} \\end{array} \\right. $$\n",
    "\n",
    "Write a function that takes as its input the values of $A$ and $Z$, and\n",
    "prints out: \n",
    "* (a) the binding energy $B$ for the corresponding atom and \n",
    "* (b) the binding energy per nucleon, which is $B/A$. \n",
    "\n",
    "Use your program to find\n",
    "the binding energy of an atom with $A = 58$ and $Z = 28$. (Hint: The\n",
    "correct answer is around 490 MeV.) \n",
    "\n",
    "Also run,  $A = 59$ and $Z = 28$ and $A = 58$ and $Z = 27$.\n"
   ]
  },
  {
   "cell_type": "code",
   "execution_count": 1,
   "metadata": {},
   "outputs": [],
   "source": [
    "b=15.67\n",
    "c=17.23\n",
    "d=.75\n",
    "e=93.2\n",
    "\n",
    "def mass (a,z):\n",
    "    \n",
    "    if(a<=0 or z<=0):\n",
    "        print('please only enter positive values of a and z')\n",
    "    \n",
    "    else:\n",
    "        if((a%2)!=0):\n",
    "            f=0\n",
    "        elif((a%2)==0 and (z%2)==0):\n",
    "            f=12\n",
    "        else:\n",
    "            f=(-12)\n",
    "        \n",
    "        B=(b*a-c*a**(2/3)-d*(z**(2)/a**(1/3))-e*((a-2*z)**(2)/a)-f/a**(1/2))\n",
    "        C=(B/a)\n",
    "        \n",
    "        print('binding energy =',B,'MeV.')\n",
    "        print('binding energy per nucleon =',C,'MeV.')"
   ]
  },
  {
   "cell_type": "code",
   "execution_count": 2,
   "metadata": {},
   "outputs": [
    {
     "name": "stdout",
     "output_type": "stream",
     "text": [
      "binding energy = -11871.081513901927 MeV.\n",
      "binding energy per nucleon = -847.9343938501377 MeV.\n"
     ]
    }
   ],
   "source": [
    "mass(14,28)"
   ]
  },
  {
   "cell_type": "code",
   "execution_count": null,
   "metadata": {},
   "outputs": [],
   "source": []
  }
 ],
 "metadata": {
  "kernelspec": {
   "display_name": "Python 3 (ipykernel)",
   "language": "python",
   "name": "python3"
  },
  "language_info": {
   "codemirror_mode": {
    "name": "ipython",
    "version": 3
   },
   "file_extension": ".py",
   "mimetype": "text/x-python",
   "name": "python",
   "nbconvert_exporter": "python",
   "pygments_lexer": "ipython3",
   "version": "3.9.12"
  }
 },
 "nbformat": 4,
 "nbformat_minor": 4
}
